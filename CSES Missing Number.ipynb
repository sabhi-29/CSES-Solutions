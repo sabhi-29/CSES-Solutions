{
 "cells": [
  {
   "cell_type": "code",
   "execution_count": 4,
   "id": "1376be5c",
   "metadata": {},
   "outputs": [
    {
     "name": "stdout",
     "output_type": "stream",
     "text": [
      "4\n"
     ]
    }
   ],
   "source": [
    "# Making the function\n",
    "def missing_number(num_arr):\n",
    "    bit_arr = [0]*(len(num_arr)+1)\n",
    "    # We turn the (i-1)th 0 to 1 if we encounter the number i in the array\n",
    "    for numbers in num_arr:\n",
    "        bit_arr[numbers-1] = 1\n",
    "    \n",
    "    return (bit_arr.index(0)+1)\n",
    "        \n",
    "        \n",
    "# # Testing the function\n",
    "# num_arr = [2,3,1,5]\n",
    "# print(missing_number(num_arr))\n",
    "\n",
    "# Very important is to remember the method of taking input\n",
    "n = int(input())\n",
    "input_arr = [int(x) for x in input().split()]\n",
    "print(missing_number(input_arr))"
   ]
  }
 ],
 "metadata": {
  "kernelspec": {
   "display_name": "Python 3 (ipykernel)",
   "language": "python",
   "name": "python3"
  },
  "language_info": {
   "codemirror_mode": {
    "name": "ipython",
    "version": 3
   },
   "file_extension": ".py",
   "mimetype": "text/x-python",
   "name": "python",
   "nbconvert_exporter": "python",
   "pygments_lexer": "ipython3",
   "version": "3.11.5"
  }
 },
 "nbformat": 4,
 "nbformat_minor": 5
}
