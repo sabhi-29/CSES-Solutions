{
 "cells": [
  {
   "cell_type": "code",
   "execution_count": 5,
   "id": "c6a81b10",
   "metadata": {},
   "outputs": [
    {
     "name": "stdout",
     "output_type": "stream",
     "text": [
      "3 10 5 16 8 4 2 1\n"
     ]
    }
   ],
   "source": [
    "# Making the function\n",
    "def weird_algo(n):\n",
    "    # We only proceed if n > 0 \n",
    "    if n > 0:\n",
    "        while n != 1:\n",
    "            if n == 1:\n",
    "                break\n",
    "            if n%2 == 0: # Even\n",
    "                print(n, end = ' ')\n",
    "                n = n//2\n",
    "                continue\n",
    "            if n%2 == 1: # Odd\n",
    "                print(n, end = ' ')\n",
    "                n = 3*n+1\n",
    "                continue\n",
    "        print(1)\n",
    "\n",
    "                \n",
    "# Testing the function with n = 3\n",
    "# weird_algo(3)\n",
    "n = int(input())\n",
    "weird_algo(n)"
   ]
  },
  {
   "cell_type": "code",
   "execution_count": null,
   "id": "dd383050",
   "metadata": {},
   "outputs": [],
   "source": []
  }
 ],
 "metadata": {
  "kernelspec": {
   "display_name": "Python 3 (ipykernel)",
   "language": "python",
   "name": "python3"
  },
  "language_info": {
   "codemirror_mode": {
    "name": "ipython",
    "version": 3
   },
   "file_extension": ".py",
   "mimetype": "text/x-python",
   "name": "python",
   "nbconvert_exporter": "python",
   "pygments_lexer": "ipython3",
   "version": "3.11.5"
  }
 },
 "nbformat": 4,
 "nbformat_minor": 5
}
