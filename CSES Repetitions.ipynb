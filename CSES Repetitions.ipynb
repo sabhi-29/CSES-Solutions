{
 "cells": [
  {
   "cell_type": "code",
   "execution_count": 4,
   "id": "f8df1dc7",
   "metadata": {},
   "outputs": [
    {
     "name": "stdout",
     "output_type": "stream",
     "text": [
      "4\n"
     ]
    }
   ],
   "source": [
    "# Defining the function\n",
    "\n",
    "def repetitions(input_str):\n",
    "    if len(input_str) > 1:\n",
    "        curr_len, max_len = 1,1\n",
    "        i = 1\n",
    "        while i < len(input_str):\n",
    "            if input_str[i] == input_str[i-1]:\n",
    "                curr_len += 1\n",
    "                i += 1\n",
    "                continue\n",
    "            else:\n",
    "                if curr_len > max_len:\n",
    "                    max_len = curr_len\n",
    "                curr_len = 1\n",
    "                i += 1\n",
    "                continue\n",
    "        if curr_len > max_len:\n",
    "            max_len = curr_len\n",
    "        return max_len\n",
    "    else:\n",
    "        return 1\n",
    "\n",
    "\n",
    "# Testing the function\n",
    "# print(repetitions('ACCGGGTTTT'))\n",
    "\n",
    "input_str = input()\n",
    "print(repetitions(input_str))"
   ]
  },
  {
   "cell_type": "code",
   "execution_count": null,
   "id": "c229707a",
   "metadata": {},
   "outputs": [],
   "source": []
  }
 ],
 "metadata": {
  "kernelspec": {
   "display_name": "Python 3 (ipykernel)",
   "language": "python",
   "name": "python3"
  },
  "language_info": {
   "codemirror_mode": {
    "name": "ipython",
    "version": 3
   },
   "file_extension": ".py",
   "mimetype": "text/x-python",
   "name": "python",
   "nbconvert_exporter": "python",
   "pygments_lexer": "ipython3",
   "version": "3.11.5"
  }
 },
 "nbformat": 4,
 "nbformat_minor": 5
}
